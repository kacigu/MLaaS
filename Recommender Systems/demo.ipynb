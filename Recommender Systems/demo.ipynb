{
  "nbformat": 4,
  "nbformat_minor": 0,
  "metadata": {
    "colab": {
      "name": "demo.ipynb",
      "provenance": [],
      "collapsed_sections": [
        "LQUEuNJsoyT2"
      ]
    },
    "kernelspec": {
      "name": "python3",
      "display_name": "Python 3"
    },
    "language_info": {
      "name": "python"
    },
    "accelerator": "GPU"
  },
  "cells": [
    {
      "cell_type": "code",
      "metadata": {
        "colab": {
          "base_uri": "https://localhost:8080/",
          "height": 35
        },
        "id": "xSappBMbCS55",
        "outputId": "acccfcf6-e207-4367-b895-107a38466eef"
      },
      "source": [
        "!pip install -Uqq fastbook\n",
        "#!pip install graphviz\n",
        "import fastbook\n",
        "from fastbook import *\n",
        "from fastai.collab import *\n",
        "from fastai.tabular.all import *  \n",
        "import torch\n",
        "torch.cuda.get_device_name(torch.cuda.current_device())\n",
        "# Note: make sure GPU is enabled"
      ],
      "execution_count": 1,
      "outputs": [
        {
          "output_type": "execute_result",
          "data": {
            "application/vnd.google.colaboratory.intrinsic+json": {
              "type": "string"
            },
            "text/plain": [
              "'Tesla T4'"
            ]
          },
          "metadata": {
            "tags": []
          },
          "execution_count": 1
        }
      ]
    },
    {
      "cell_type": "markdown",
      "metadata": {
        "id": "kJ4aniKzR_aR"
      },
      "source": [
        "# RecSys Model\n",
        "\n",
        "This is a FastAI recommender systems model based on collaboritive filtering (“Users who preferred this item also preferred”) and explicit feedback (rating). We need a user-uploaded csv dataset that contains users, items, and ratings to build the model.\n",
        "\n",
        "If it is implicit feedback (only user-item interactions are considered), just append a column of constants to be the ratings. "
      ]
    },
    {
      "cell_type": "markdown",
      "metadata": {
        "id": "O4yopyamDDQC"
      },
      "source": [
        "Load our demo 10k movielens data. Columns=['user', 'movie', 'rating', 'timestamp', 'title']"
      ]
    },
    {
      "cell_type": "code",
      "metadata": {
        "colab": {
          "base_uri": "https://localhost:8080/",
          "height": 204
        },
        "id": "83bM-Q6NCd2v",
        "outputId": "1ecf71c6-1ce0-4404-8772-e2041789a1bb"
      },
      "source": [
        "path = untar_data(URLs.ML_100k)\n",
        "ratings = pd.read_csv(path/'u.data', delimiter='\\t', header=None,\n",
        "                      names=['user','movie','rating','timestamp'])\n",
        "movies = pd.read_csv(path/'u.item',  delimiter='|', encoding='latin-1',\n",
        "                     usecols=(0,1), names=('movie','title'), header=None)\n",
        "ratings = ratings.merge(movies)\n",
        "ratings.head()"
      ],
      "execution_count": 2,
      "outputs": [
        {
          "output_type": "execute_result",
          "data": {
            "text/html": [
              "<div>\n",
              "<style scoped>\n",
              "    .dataframe tbody tr th:only-of-type {\n",
              "        vertical-align: middle;\n",
              "    }\n",
              "\n",
              "    .dataframe tbody tr th {\n",
              "        vertical-align: top;\n",
              "    }\n",
              "\n",
              "    .dataframe thead th {\n",
              "        text-align: right;\n",
              "    }\n",
              "</style>\n",
              "<table border=\"1\" class=\"dataframe\">\n",
              "  <thead>\n",
              "    <tr style=\"text-align: right;\">\n",
              "      <th></th>\n",
              "      <th>user</th>\n",
              "      <th>movie</th>\n",
              "      <th>rating</th>\n",
              "      <th>timestamp</th>\n",
              "      <th>title</th>\n",
              "    </tr>\n",
              "  </thead>\n",
              "  <tbody>\n",
              "    <tr>\n",
              "      <th>0</th>\n",
              "      <td>196</td>\n",
              "      <td>242</td>\n",
              "      <td>3</td>\n",
              "      <td>881250949</td>\n",
              "      <td>Kolya (1996)</td>\n",
              "    </tr>\n",
              "    <tr>\n",
              "      <th>1</th>\n",
              "      <td>63</td>\n",
              "      <td>242</td>\n",
              "      <td>3</td>\n",
              "      <td>875747190</td>\n",
              "      <td>Kolya (1996)</td>\n",
              "    </tr>\n",
              "    <tr>\n",
              "      <th>2</th>\n",
              "      <td>226</td>\n",
              "      <td>242</td>\n",
              "      <td>5</td>\n",
              "      <td>883888671</td>\n",
              "      <td>Kolya (1996)</td>\n",
              "    </tr>\n",
              "    <tr>\n",
              "      <th>3</th>\n",
              "      <td>154</td>\n",
              "      <td>242</td>\n",
              "      <td>3</td>\n",
              "      <td>879138235</td>\n",
              "      <td>Kolya (1996)</td>\n",
              "    </tr>\n",
              "    <tr>\n",
              "      <th>4</th>\n",
              "      <td>306</td>\n",
              "      <td>242</td>\n",
              "      <td>5</td>\n",
              "      <td>876503793</td>\n",
              "      <td>Kolya (1996)</td>\n",
              "    </tr>\n",
              "  </tbody>\n",
              "</table>\n",
              "</div>"
            ],
            "text/plain": [
              "   user  movie  rating  timestamp         title\n",
              "0   196    242       3  881250949  Kolya (1996)\n",
              "1    63    242       3  875747190  Kolya (1996)\n",
              "2   226    242       5  883888671  Kolya (1996)\n",
              "3   154    242       3  879138235  Kolya (1996)\n",
              "4   306    242       5  876503793  Kolya (1996)"
            ]
          },
          "metadata": {
            "tags": []
          },
          "execution_count": 2
        }
      ]
    },
    {
      "cell_type": "markdown",
      "metadata": {
        "id": "EA6Qyv5tPtiN"
      },
      "source": [
        "Through the MLaaS platform, we are taking a well-cleaned dataset that has the features \"user\" (str), \"item\" (str), and \"rating\" (int/float). The user needs to specify the column names; the range of the ratings, eg. 0-5 for movies; and k=? for the top k items to recommend. "
      ]
    },
    {
      "cell_type": "code",
      "metadata": {
        "id": "ECrSU7A2FVvU"
      },
      "source": [
        "# Define some constants\n",
        "USER, ITEM, RATING, PREDICTION = 'user', 'title', 'rating', 'pred' # the first three requires user input\n",
        "Y_RANGE = (0, 5.5) # adding 0.5 to the maximum rating for better performance\n",
        "\n",
        "# Top k items to recommend\n",
        "TOP_K = 10"
      ],
      "execution_count": 3,
      "outputs": []
    },
    {
      "cell_type": "markdown",
      "metadata": {
        "id": "x4UugVWb6183"
      },
      "source": [
        "Make sure the IDs are loaded as stirngs to prevent confusion with embedding IDs"
      ]
    },
    {
      "cell_type": "code",
      "metadata": {
        "id": "HXtwh239DeU5"
      },
      "source": [
        "ratings[USER] = ratings[USER].astype('str')\n",
        "ratings[ITEM] = ratings[ITEM].astype('str') \n",
        "# For interpretability, we are using movie titles instead of movie IDs as items, which are already strings"
      ],
      "execution_count": 4,
      "outputs": []
    },
    {
      "cell_type": "markdown",
      "metadata": {
        "id": "fN-U8YXB5WHC"
      },
      "source": [
        "Split into train and test sets. The splitting ratio is (.75, .25). This is a random split. Depending on the data, we can also work on stratified and chono split in the future. "
      ]
    },
    {
      "cell_type": "code",
      "metadata": {
        "id": "C5ey8yCEIiW6"
      },
      "source": [
        "from sklearn.model_selection import train_test_split\n",
        "train, test = train_test_split(ratings, test_size=0.25, random_state=42)"
      ],
      "execution_count": 5,
      "outputs": []
    },
    {
      "cell_type": "code",
      "metadata": {
        "id": "q7SQ3c9SYDu2"
      },
      "source": [
        "def get_model(dls, n_factors, layers, max_learning_rate, n_epoch, weight_decay):\n",
        "  learn = collab_learner(dls, n_factors=n_factors, use_nn=True, y_range=Y_RANGE, layers=layers)\n",
        "  learn.fit_one_cycle(n_epoch=n_epoch, lr_max=max_learning_rate, wd=weight_decay)\n",
        "  return learn"
      ],
      "execution_count": 6,
      "outputs": []
    },
    {
      "cell_type": "code",
      "metadata": {
        "colab": {
          "base_uri": "https://localhost:8080/",
          "height": 204
        },
        "id": "p1Ur00o-Iq_d",
        "outputId": "45a2596e-106e-4e0f-fb01-499daff44ccc"
      },
      "source": [
        "dls = CollabDataLoaders.from_df(train, user_name=USER, item_name=ITEM, rating_name=RATING, seed=42, bs=64)\n",
        "# Train a sample model\n",
        "model = get_model(dls, n_factors=40, layers=[120, 60, 30], max_learning_rate=5e-3, n_epoch=5, weight_decay=0.1 )"
      ],
      "execution_count": 7,
      "outputs": [
        {
          "output_type": "display_data",
          "data": {
            "text/html": [
              "<table border=\"1\" class=\"dataframe\">\n",
              "  <thead>\n",
              "    <tr style=\"text-align: left;\">\n",
              "      <th>epoch</th>\n",
              "      <th>train_loss</th>\n",
              "      <th>valid_loss</th>\n",
              "      <th>time</th>\n",
              "    </tr>\n",
              "  </thead>\n",
              "  <tbody>\n",
              "    <tr>\n",
              "      <td>0</td>\n",
              "      <td>1.002506</td>\n",
              "      <td>0.983140</td>\n",
              "      <td>00:07</td>\n",
              "    </tr>\n",
              "    <tr>\n",
              "      <td>1</td>\n",
              "      <td>0.941453</td>\n",
              "      <td>0.919471</td>\n",
              "      <td>00:07</td>\n",
              "    </tr>\n",
              "    <tr>\n",
              "      <td>2</td>\n",
              "      <td>0.881236</td>\n",
              "      <td>0.899451</td>\n",
              "      <td>00:07</td>\n",
              "    </tr>\n",
              "    <tr>\n",
              "      <td>3</td>\n",
              "      <td>0.841020</td>\n",
              "      <td>0.878275</td>\n",
              "      <td>00:07</td>\n",
              "    </tr>\n",
              "    <tr>\n",
              "      <td>4</td>\n",
              "      <td>0.764742</td>\n",
              "      <td>0.880206</td>\n",
              "      <td>00:07</td>\n",
              "    </tr>\n",
              "  </tbody>\n",
              "</table>"
            ],
            "text/plain": [
              "<IPython.core.display.HTML object>"
            ]
          },
          "metadata": {
            "tags": []
          }
        }
      ]
    },
    {
      "cell_type": "markdown",
      "metadata": {
        "id": "pKWxBW1wH3cp"
      },
      "source": [
        "@source [microsoft recommenders / fastai_movielens.ipynb](https://github.com/microsoft/recommenders/blob/main/examples/00_quick_start/fastai_movielens.ipynb)"
      ]
    },
    {
      "cell_type": "code",
      "metadata": {
        "id": "scL9-HAH0dym"
      },
      "source": [
        "def get_test_df(learn, test, item_col=ITEM, user_col=USER, rating_col=RATING):\n",
        "  ''' \n",
        "  Return all user-item combinations where the user is known to the model but the combinations are unknown (pandas.DataFrame). \n",
        "  \n",
        "  Args:\n",
        "      learn (object): Model.\n",
        "      test (pandas.DataFrame): Test dataset from train-test split.\n",
        "      user_col (str): User column name.\n",
        "      item_col (str): Item column name.\n",
        "      rating_col (str): Rating column name.\n",
        "  '''\n",
        "\n",
        "  # get items and users known to the model\n",
        "  total_items = learn.dls.classes[item_col][1:]\n",
        "  total_users = learn.dls.classes[user_col][1:]\n",
        "\n",
        "  # get all users from the test set and remove any users not in the train set\n",
        "  test_users = test[user_col].unique()\n",
        "  test_users = np.intersect1d(test_users, total_users)\n",
        "\n",
        "  # build the cartesian product of test set users and all items known to the model\n",
        "  users_items = cartesian_product(np.array(test_users),np.array(total_items))\n",
        "  users_items = pd.DataFrame(users_items, columns=[user_col, item_col])\n",
        "\n",
        "  # remove the user/items combinations that are in the train set; we don't want to propose a movie that the user has already watched.\n",
        "  training_removed = pd.merge(users_items, train.astype('str'), on=[user_col, item_col], how='left')\n",
        "  training_removed = training_removed[training_removed[rating_col].isna()][[user_col, item_col]]\n",
        "\n",
        "  return training_removed\n",
        "\n",
        "def cartesian_product(x, y):\n",
        "  '''a helper function that returns the cartesian product of two numpy arrays'''\n",
        "  return np.transpose([np.tile(x, len(y)), np.repeat(y, len(x))])\n"
      ],
      "execution_count": 8,
      "outputs": []
    },
    {
      "cell_type": "markdown",
      "metadata": {
        "id": "TEoY9GWGITSw"
      },
      "source": [
        "@source [microsoft recommenders / fastai_utils.py](https://github.com/microsoft/recommenders/blob/main/reco_utils/recommender/fastai/fastai_utils.py)"
      ]
    },
    {
      "cell_type": "code",
      "metadata": {
        "id": "xhj9BQ5i5P9h"
      },
      "source": [
        "def score(learn, test_df, item_col=ITEM, user_col=USER, pred_col=PREDICTION, top_k=TOP_K):\n",
        "  '''\n",
        "  Return recommendation result (pandas.DataFrame)\n",
        "\n",
        "  Args:\n",
        "      learn (object): Model.\n",
        "      test_df (pandas.DataFrame): Test dataframe from get_test_df().\n",
        "      user_col (str): User column name.\n",
        "      item_col (str): Item column name.\n",
        "      pred_col (str): Prediction column name.\n",
        "      top_k (int): Number of top items to recommend.\n",
        "  '''\n",
        "  # get prediction as a numpy array\n",
        "  dl = learn.dls.test_dl(test_df)\n",
        "  pred_tensor,_ = learn.get_preds(dl=dl)\n",
        "  pred = pred_tensor.numpy().flatten()\n",
        "\n",
        "  scores = pd.DataFrame(\n",
        "        {user_col: test_df[user_col], item_col: test_df[item_col], pred_col: pred}\n",
        "    )\n",
        "  scores = scores.sort_values([user_col, pred_col], ascending=[True, False])\n",
        "  if top_k==TOP_K:\n",
        "      top_scores = scores.groupby(user_col).head(top_k).reset_index(drop=True)\n",
        "  else:\n",
        "      top_scores = scores\n",
        "  return top_scores"
      ],
      "execution_count": 9,
      "outputs": []
    },
    {
      "cell_type": "markdown",
      "metadata": {
        "id": "mwmwZPFwBmo-"
      },
      "source": [
        "Use our sample model to take a look at our top-k prediction pandas dataframe."
      ]
    },
    {
      "cell_type": "code",
      "metadata": {
        "colab": {
          "base_uri": "https://localhost:8080/",
          "height": 204
        },
        "id": "qSI1EP5pBVSD",
        "outputId": "69edefd2-c64e-4787-84b9-63407b87643f"
      },
      "source": [
        "test_df = get_test_df(model, test)\n",
        "pred_df = score(model, test_df)\n",
        "pred_df.head()"
      ],
      "execution_count": 10,
      "outputs": [
        {
          "output_type": "display_data",
          "data": {
            "text/html": [
              ""
            ],
            "text/plain": [
              "<IPython.core.display.HTML object>"
            ]
          },
          "metadata": {
            "tags": []
          }
        },
        {
          "output_type": "execute_result",
          "data": {
            "text/html": [
              "<div>\n",
              "<style scoped>\n",
              "    .dataframe tbody tr th:only-of-type {\n",
              "        vertical-align: middle;\n",
              "    }\n",
              "\n",
              "    .dataframe tbody tr th {\n",
              "        vertical-align: top;\n",
              "    }\n",
              "\n",
              "    .dataframe thead th {\n",
              "        text-align: right;\n",
              "    }\n",
              "</style>\n",
              "<table border=\"1\" class=\"dataframe\">\n",
              "  <thead>\n",
              "    <tr style=\"text-align: right;\">\n",
              "      <th></th>\n",
              "      <th>user</th>\n",
              "      <th>title</th>\n",
              "      <th>pred</th>\n",
              "    </tr>\n",
              "  </thead>\n",
              "  <tbody>\n",
              "    <tr>\n",
              "      <th>0</th>\n",
              "      <td>1</td>\n",
              "      <td>Schindler's List (1993)</td>\n",
              "      <td>4.614772</td>\n",
              "    </tr>\n",
              "    <tr>\n",
              "      <th>1</th>\n",
              "      <td>1</td>\n",
              "      <td>Rear Window (1954)</td>\n",
              "      <td>4.556983</td>\n",
              "    </tr>\n",
              "    <tr>\n",
              "      <th>2</th>\n",
              "      <td>1</td>\n",
              "      <td>Casablanca (1942)</td>\n",
              "      <td>4.549874</td>\n",
              "    </tr>\n",
              "    <tr>\n",
              "      <th>3</th>\n",
              "      <td>1</td>\n",
              "      <td>Close Shave, A (1995)</td>\n",
              "      <td>4.534760</td>\n",
              "    </tr>\n",
              "    <tr>\n",
              "      <th>4</th>\n",
              "      <td>1</td>\n",
              "      <td>Ruling Class, The (1972)</td>\n",
              "      <td>4.504482</td>\n",
              "    </tr>\n",
              "  </tbody>\n",
              "</table>\n",
              "</div>"
            ],
            "text/plain": [
              "  user                     title      pred\n",
              "0    1   Schindler's List (1993)  4.614772\n",
              "1    1        Rear Window (1954)  4.556983\n",
              "2    1         Casablanca (1942)  4.549874\n",
              "3    1     Close Shave, A (1995)  4.534760\n",
              "4    1  Ruling Class, The (1972)  4.504482"
            ]
          },
          "metadata": {
            "tags": []
          },
          "execution_count": 10
        }
      ]
    },
    {
      "cell_type": "markdown",
      "metadata": {
        "id": "LQUEuNJsoyT2"
      },
      "source": [
        "## Evaluation, step by step"
      ]
    },
    {
      "cell_type": "code",
      "metadata": {
        "colab": {
          "base_uri": "https://localhost:8080/",
          "height": 0
        },
        "id": "PsyBcu1zc9Oo",
        "outputId": "388598b0-2eb1-430d-c185-d1cca960986c"
      },
      "source": [
        "# Make sure the prediction and true data frames have the same set of users\n",
        "common_users = set(test[USER]).intersection(set(pred_df[USER]))\n",
        "rating_true_common = test[test[USER].isin(common_users)]\n",
        "rating_pred_common = pred_df[pred_df[USER].isin(common_users)]\n",
        "# n_users = len(common_users)\n",
        "\n",
        "df_hit = pred_df.copy()\n",
        "df_hit['rank'] = df_hit.groupby(USER, sort=False).cumcount() + 1\n",
        "df_hit = pd.merge(df_hit, rating_true_common, on=[USER, ITEM])[\n",
        "        [USER, ITEM, \"rank\"]\n",
        "    ]\n",
        "df_hit"
      ],
      "execution_count": 11,
      "outputs": [
        {
          "output_type": "execute_result",
          "data": {
            "text/html": [
              "<div>\n",
              "<style scoped>\n",
              "    .dataframe tbody tr th:only-of-type {\n",
              "        vertical-align: middle;\n",
              "    }\n",
              "\n",
              "    .dataframe tbody tr th {\n",
              "        vertical-align: top;\n",
              "    }\n",
              "\n",
              "    .dataframe thead th {\n",
              "        text-align: right;\n",
              "    }\n",
              "</style>\n",
              "<table border=\"1\" class=\"dataframe\">\n",
              "  <thead>\n",
              "    <tr style=\"text-align: right;\">\n",
              "      <th></th>\n",
              "      <th>user</th>\n",
              "      <th>title</th>\n",
              "      <th>rank</th>\n",
              "    </tr>\n",
              "  </thead>\n",
              "  <tbody>\n",
              "    <tr>\n",
              "      <th>0</th>\n",
              "      <td>1</td>\n",
              "      <td>Empire Strikes Back, The (1980)</td>\n",
              "      <td>8</td>\n",
              "    </tr>\n",
              "    <tr>\n",
              "      <th>1</th>\n",
              "      <td>10</td>\n",
              "      <td>Casablanca (1942)</td>\n",
              "      <td>1</td>\n",
              "    </tr>\n",
              "    <tr>\n",
              "      <th>2</th>\n",
              "      <td>10</td>\n",
              "      <td>Shawshank Redemption, The (1994)</td>\n",
              "      <td>2</td>\n",
              "    </tr>\n",
              "    <tr>\n",
              "      <th>3</th>\n",
              "      <td>10</td>\n",
              "      <td>Star Wars (1977)</td>\n",
              "      <td>3</td>\n",
              "    </tr>\n",
              "    <tr>\n",
              "      <th>4</th>\n",
              "      <td>101</td>\n",
              "      <td>Star Wars (1977)</td>\n",
              "      <td>6</td>\n",
              "    </tr>\n",
              "    <tr>\n",
              "      <th>...</th>\n",
              "      <td>...</td>\n",
              "      <td>...</td>\n",
              "      <td>...</td>\n",
              "    </tr>\n",
              "    <tr>\n",
              "      <th>712</th>\n",
              "      <td>96</td>\n",
              "      <td>Schindler's List (1993)</td>\n",
              "      <td>1</td>\n",
              "    </tr>\n",
              "    <tr>\n",
              "      <th>713</th>\n",
              "      <td>96</td>\n",
              "      <td>Shawshank Redemption, The (1994)</td>\n",
              "      <td>2</td>\n",
              "    </tr>\n",
              "    <tr>\n",
              "      <th>714</th>\n",
              "      <td>96</td>\n",
              "      <td>Godfather, The (1972)</td>\n",
              "      <td>10</td>\n",
              "    </tr>\n",
              "    <tr>\n",
              "      <th>715</th>\n",
              "      <td>97</td>\n",
              "      <td>Silence of the Lambs, The (1991)</td>\n",
              "      <td>5</td>\n",
              "    </tr>\n",
              "    <tr>\n",
              "      <th>716</th>\n",
              "      <td>98</td>\n",
              "      <td>Ruling Class, The (1972)</td>\n",
              "      <td>8</td>\n",
              "    </tr>\n",
              "  </tbody>\n",
              "</table>\n",
              "<p>717 rows × 3 columns</p>\n",
              "</div>"
            ],
            "text/plain": [
              "    user                             title  rank\n",
              "0      1   Empire Strikes Back, The (1980)     8\n",
              "1     10                 Casablanca (1942)     1\n",
              "2     10  Shawshank Redemption, The (1994)     2\n",
              "3     10                  Star Wars (1977)     3\n",
              "4    101                  Star Wars (1977)     6\n",
              "..   ...                               ...   ...\n",
              "712   96           Schindler's List (1993)     1\n",
              "713   96  Shawshank Redemption, The (1994)     2\n",
              "714   96             Godfather, The (1972)    10\n",
              "715   97  Silence of the Lambs, The (1991)     5\n",
              "716   98          Ruling Class, The (1972)     8\n",
              "\n",
              "[717 rows x 3 columns]"
            ]
          },
          "metadata": {
            "tags": []
          },
          "execution_count": 11
        }
      ]
    },
    {
      "cell_type": "code",
      "metadata": {
        "colab": {
          "base_uri": "https://localhost:8080/",
          "height": 0
        },
        "id": "of1BtXfEgRKj",
        "outputId": "1463f96b-ebcd-4ef2-d831-23efa21ba5c8"
      },
      "source": [
        "n_users = len(common_users)\n",
        "df_hit_count = pd.merge(\n",
        "    df_hit.groupby(USER, as_index=False)[USER].agg({\"hit\": \"count\"}),\n",
        "    test.groupby(USER, as_index=False)[USER].agg(\n",
        "        {\"actual\": \"count\"}\n",
        "    ),\n",
        "    on=USER,\n",
        ")\n",
        "df_hit_count.head()"
      ],
      "execution_count": 12,
      "outputs": [
        {
          "output_type": "execute_result",
          "data": {
            "text/html": [
              "<div>\n",
              "<style scoped>\n",
              "    .dataframe tbody tr th:only-of-type {\n",
              "        vertical-align: middle;\n",
              "    }\n",
              "\n",
              "    .dataframe tbody tr th {\n",
              "        vertical-align: top;\n",
              "    }\n",
              "\n",
              "    .dataframe thead th {\n",
              "        text-align: right;\n",
              "    }\n",
              "</style>\n",
              "<table border=\"1\" class=\"dataframe\">\n",
              "  <thead>\n",
              "    <tr style=\"text-align: right;\">\n",
              "      <th></th>\n",
              "      <th>user</th>\n",
              "      <th>hit</th>\n",
              "      <th>actual</th>\n",
              "    </tr>\n",
              "  </thead>\n",
              "  <tbody>\n",
              "    <tr>\n",
              "      <th>0</th>\n",
              "      <td>1</td>\n",
              "      <td>1</td>\n",
              "      <td>55</td>\n",
              "    </tr>\n",
              "    <tr>\n",
              "      <th>1</th>\n",
              "      <td>10</td>\n",
              "      <td>3</td>\n",
              "      <td>56</td>\n",
              "    </tr>\n",
              "    <tr>\n",
              "      <th>2</th>\n",
              "      <td>101</td>\n",
              "      <td>1</td>\n",
              "      <td>13</td>\n",
              "    </tr>\n",
              "    <tr>\n",
              "      <th>3</th>\n",
              "      <td>103</td>\n",
              "      <td>1</td>\n",
              "      <td>12</td>\n",
              "    </tr>\n",
              "    <tr>\n",
              "      <th>4</th>\n",
              "      <td>106</td>\n",
              "      <td>2</td>\n",
              "      <td>19</td>\n",
              "    </tr>\n",
              "  </tbody>\n",
              "</table>\n",
              "</div>"
            ],
            "text/plain": [
              "  user  hit  actual\n",
              "0    1    1      55\n",
              "1   10    3      56\n",
              "2  101    1      13\n",
              "3  103    1      12\n",
              "4  106    2      19"
            ]
          },
          "metadata": {
            "tags": []
          },
          "execution_count": 12
        }
      ]
    },
    {
      "cell_type": "code",
      "metadata": {
        "colab": {
          "base_uri": "https://localhost:8080/",
          "height": 0
        },
        "id": "MvOtXko5hHf-",
        "outputId": "ffe5aa6d-81e6-4104-ce87-7a3f51294ce3"
      },
      "source": [
        "test.groupby(USER, as_index=False)[USER].agg(\n",
        "        {\"actual\": \"count\"})"
      ],
      "execution_count": 13,
      "outputs": [
        {
          "output_type": "execute_result",
          "data": {
            "text/html": [
              "<div>\n",
              "<style scoped>\n",
              "    .dataframe tbody tr th:only-of-type {\n",
              "        vertical-align: middle;\n",
              "    }\n",
              "\n",
              "    .dataframe tbody tr th {\n",
              "        vertical-align: top;\n",
              "    }\n",
              "\n",
              "    .dataframe thead th {\n",
              "        text-align: right;\n",
              "    }\n",
              "</style>\n",
              "<table border=\"1\" class=\"dataframe\">\n",
              "  <thead>\n",
              "    <tr style=\"text-align: right;\">\n",
              "      <th></th>\n",
              "      <th>user</th>\n",
              "      <th>actual</th>\n",
              "    </tr>\n",
              "  </thead>\n",
              "  <tbody>\n",
              "    <tr>\n",
              "      <th>0</th>\n",
              "      <td>1</td>\n",
              "      <td>55</td>\n",
              "    </tr>\n",
              "    <tr>\n",
              "      <th>1</th>\n",
              "      <td>10</td>\n",
              "      <td>56</td>\n",
              "    </tr>\n",
              "    <tr>\n",
              "      <th>2</th>\n",
              "      <td>100</td>\n",
              "      <td>19</td>\n",
              "    </tr>\n",
              "    <tr>\n",
              "      <th>3</th>\n",
              "      <td>101</td>\n",
              "      <td>13</td>\n",
              "    </tr>\n",
              "    <tr>\n",
              "      <th>4</th>\n",
              "      <td>102</td>\n",
              "      <td>45</td>\n",
              "    </tr>\n",
              "    <tr>\n",
              "      <th>...</th>\n",
              "      <td>...</td>\n",
              "      <td>...</td>\n",
              "    </tr>\n",
              "    <tr>\n",
              "      <th>938</th>\n",
              "      <td>95</td>\n",
              "      <td>67</td>\n",
              "    </tr>\n",
              "    <tr>\n",
              "      <th>939</th>\n",
              "      <td>96</td>\n",
              "      <td>16</td>\n",
              "    </tr>\n",
              "    <tr>\n",
              "      <th>940</th>\n",
              "      <td>97</td>\n",
              "      <td>15</td>\n",
              "    </tr>\n",
              "    <tr>\n",
              "      <th>941</th>\n",
              "      <td>98</td>\n",
              "      <td>6</td>\n",
              "    </tr>\n",
              "    <tr>\n",
              "      <th>942</th>\n",
              "      <td>99</td>\n",
              "      <td>35</td>\n",
              "    </tr>\n",
              "  </tbody>\n",
              "</table>\n",
              "<p>943 rows × 2 columns</p>\n",
              "</div>"
            ],
            "text/plain": [
              "    user  actual\n",
              "0      1      55\n",
              "1     10      56\n",
              "2    100      19\n",
              "3    101      13\n",
              "4    102      45\n",
              "..   ...     ...\n",
              "938   95      67\n",
              "939   96      16\n",
              "940   97      15\n",
              "941   98       6\n",
              "942   99      35\n",
              "\n",
              "[943 rows x 2 columns]"
            ]
          },
          "metadata": {
            "tags": []
          },
          "execution_count": 13
        }
      ]
    },
    {
      "cell_type": "code",
      "metadata": {
        "colab": {
          "base_uri": "https://localhost:8080/",
          "height": 0
        },
        "id": "W3-nJHGxhPGu",
        "outputId": "2eae9d0b-1e4f-4c53-b5c1-4d46b48f4c40"
      },
      "source": [
        "df_hit.groupby(USER, as_index=False)[USER].agg({\"hit\": \"count\"})"
      ],
      "execution_count": 14,
      "outputs": [
        {
          "output_type": "execute_result",
          "data": {
            "text/html": [
              "<div>\n",
              "<style scoped>\n",
              "    .dataframe tbody tr th:only-of-type {\n",
              "        vertical-align: middle;\n",
              "    }\n",
              "\n",
              "    .dataframe tbody tr th {\n",
              "        vertical-align: top;\n",
              "    }\n",
              "\n",
              "    .dataframe thead th {\n",
              "        text-align: right;\n",
              "    }\n",
              "</style>\n",
              "<table border=\"1\" class=\"dataframe\">\n",
              "  <thead>\n",
              "    <tr style=\"text-align: right;\">\n",
              "      <th></th>\n",
              "      <th>user</th>\n",
              "      <th>hit</th>\n",
              "    </tr>\n",
              "  </thead>\n",
              "  <tbody>\n",
              "    <tr>\n",
              "      <th>0</th>\n",
              "      <td>1</td>\n",
              "      <td>1</td>\n",
              "    </tr>\n",
              "    <tr>\n",
              "      <th>1</th>\n",
              "      <td>10</td>\n",
              "      <td>3</td>\n",
              "    </tr>\n",
              "    <tr>\n",
              "      <th>2</th>\n",
              "      <td>101</td>\n",
              "      <td>1</td>\n",
              "    </tr>\n",
              "    <tr>\n",
              "      <th>3</th>\n",
              "      <td>103</td>\n",
              "      <td>1</td>\n",
              "    </tr>\n",
              "    <tr>\n",
              "      <th>4</th>\n",
              "      <td>106</td>\n",
              "      <td>2</td>\n",
              "    </tr>\n",
              "    <tr>\n",
              "      <th>...</th>\n",
              "      <td>...</td>\n",
              "      <td>...</td>\n",
              "    </tr>\n",
              "    <tr>\n",
              "      <th>409</th>\n",
              "      <td>942</td>\n",
              "      <td>1</td>\n",
              "    </tr>\n",
              "    <tr>\n",
              "      <th>410</th>\n",
              "      <td>943</td>\n",
              "      <td>1</td>\n",
              "    </tr>\n",
              "    <tr>\n",
              "      <th>411</th>\n",
              "      <td>96</td>\n",
              "      <td>3</td>\n",
              "    </tr>\n",
              "    <tr>\n",
              "      <th>412</th>\n",
              "      <td>97</td>\n",
              "      <td>1</td>\n",
              "    </tr>\n",
              "    <tr>\n",
              "      <th>413</th>\n",
              "      <td>98</td>\n",
              "      <td>1</td>\n",
              "    </tr>\n",
              "  </tbody>\n",
              "</table>\n",
              "<p>414 rows × 2 columns</p>\n",
              "</div>"
            ],
            "text/plain": [
              "    user  hit\n",
              "0      1    1\n",
              "1     10    3\n",
              "2    101    1\n",
              "3    103    1\n",
              "4    106    2\n",
              "..   ...  ...\n",
              "409  942    1\n",
              "410  943    1\n",
              "411   96    3\n",
              "412   97    1\n",
              "413   98    1\n",
              "\n",
              "[414 rows x 2 columns]"
            ]
          },
          "metadata": {
            "tags": []
          },
          "execution_count": 14
        }
      ]
    },
    {
      "cell_type": "code",
      "metadata": {
        "colab": {
          "base_uri": "https://localhost:8080/"
        },
        "id": "Nrs8PHJviCnc",
        "outputId": "8b4c7392-c66e-4ad9-e5d0-77fd05bcc523"
      },
      "source": [
        "df_hit.shape[0]"
      ],
      "execution_count": 15,
      "outputs": [
        {
          "output_type": "execute_result",
          "data": {
            "text/plain": [
              "717"
            ]
          },
          "metadata": {
            "tags": []
          },
          "execution_count": 15
        }
      ]
    },
    {
      "cell_type": "code",
      "metadata": {
        "colab": {
          "base_uri": "https://localhost:8080/"
        },
        "id": "ksPW35jWiFGa",
        "outputId": "ce43b322-43f2-49dc-a11c-d75449cd8b12"
      },
      "source": [
        "(df_hit_count[\"hit\"] / TOP_K).sum() / n_users"
      ],
      "execution_count": 16,
      "outputs": [
        {
          "output_type": "execute_result",
          "data": {
            "text/plain": [
              "0.07603393425238603"
            ]
          },
          "metadata": {
            "tags": []
          },
          "execution_count": 16
        }
      ]
    },
    {
      "cell_type": "code",
      "metadata": {
        "colab": {
          "base_uri": "https://localhost:8080/"
        },
        "id": "BRMd045MiS3a",
        "outputId": "ec449afa-7018-4c4b-ccd5-6986f8211767"
      },
      "source": [
        "(df_hit_count[\"hit\"] / df_hit_count[\"actual\"]).sum() / n_users"
      ],
      "execution_count": 17,
      "outputs": [
        {
          "output_type": "execute_result",
          "data": {
            "text/plain": [
              "0.028887843546493586"
            ]
          },
          "metadata": {
            "tags": []
          },
          "execution_count": 17
        }
      ]
    },
    {
      "cell_type": "markdown",
      "metadata": {
        "id": "C7o7W2omo3Dx"
      },
      "source": [
        "## Evaluation of Model Performance"
      ]
    },
    {
      "cell_type": "markdown",
      "metadata": {
        "id": "eGiEOg2Ni53F"
      },
      "source": [
        "@source [microsoft recommenders / python_evaluation.py](https://github.com/microsoft/recommenders/blob/main/reco_utils/evaluation/python_evaluation.py)"
      ]
    },
    {
      "cell_type": "code",
      "metadata": {
        "id": "LaZHiajRkUym"
      },
      "source": [
        "def merge_test_pred(test, pred_df):\n",
        "  '''Filter truth and prediction data frames on common users\n",
        "      test (pandas.DataFrame): True DataFrame from train-test split\n",
        "      pred_df (pandas.DataFrame): Predicted DataFrame\n",
        "    Returns:\n",
        "      pandas.DataFrame, pandas.DataFrame, int: DataFrame of recommendation hits, sorted by `col_user` and `rank`\n",
        "      DataFrmae of hit counts vs actual relevant items per user number of unique user ids\n",
        "  '''\n",
        "  # Make sure the prediction and true data frames have the same set of users\n",
        "  common_users = set(test[USER]).intersection(set(pred_df[USER]))\n",
        "  rating_true_common = test[test[USER].isin(common_users)]\n",
        "  rating_pred_common = pred_df[pred_df[USER].isin(common_users)]\n",
        "  n_users = len(common_users)\n",
        "\n",
        "  df_hit = pred_df.copy()\n",
        "  df_hit['rank'] = df_hit.groupby(USER, sort=False).cumcount() + 1\n",
        "  df_hit = pd.merge(df_hit, rating_true_common, on=[USER, ITEM])[\n",
        "          [USER, ITEM, \"rank\"]\n",
        "      ]\n",
        "\n",
        "  df_hit_count = pd.merge(\n",
        "    df_hit.groupby(USER, as_index=False)[USER].agg({\"hit\": \"count\"}),\n",
        "    test.groupby(USER, as_index=False)[USER].agg(\n",
        "        {\"actual\": \"count\"}\n",
        "    ),\n",
        "    on=USER,\n",
        "  )\n",
        "  \n",
        "  return df_hit, df_hit_count, n_users\n",
        "\n",
        "def precision_at_k(test, pred_df):\n",
        "  '''Precision at K.\n",
        "    Note:\n",
        "        We use the same formula to calculate precision@k as that in Spark.\n",
        "        More details can be found at\n",
        "        http://spark.apache.org/docs/2.1.1/api/python/pyspark.mllib.html#pyspark.mllib.evaluation.RankingMetrics.precisionAt\n",
        "        In particular, the maximum achievable precision may be < 1, if the number of items for a\n",
        "        user in rating_pred is less than k.\n",
        "    Args:\n",
        "      test (pandas.DataFrame): True DataFrame from train-test split\n",
        "      pred_df (pandas.DataFrame): Predicted DataFrame\n",
        "    Returns:\n",
        "      float: precision at k (min=0, max=1)\n",
        "    '''\n",
        "  df_hit, df_hit_count, n_users = merge_test_pred(test, pred_df)\n",
        "    \n",
        "  if df_hit.shape[0] == 0:\n",
        "    return 0.0\n",
        "\n",
        "  return (df_hit_count[\"hit\"] / TOP_K).sum() / n_users\n",
        "\n",
        "def recall_at_k(test, pred_df):\n",
        "  \"\"\"Recall at K.\n",
        "  Args:\n",
        "      test (pandas.DataFrame): True DataFrame from train-test split\n",
        "      pred_df (pandas.DataFrame): Predicted DataFrame\n",
        "  Returns:\n",
        "      float: recall at k (min=0, max=1). The maximum value is 1 even when fewer than \n",
        "      k items exist for a user in rating_true.\n",
        "  \"\"\"\n",
        "  df_hit, df_hit_count, n_users = merge_test_pred(test, pred_df)\n",
        "\n",
        "  if df_hit.shape[0] == 0:\n",
        "    return 0.0\n",
        "\n",
        "  return (df_hit_count[\"hit\"] / df_hit_count[\"actual\"]).sum() / n_users\n",
        "\n",
        "def F1_Score(test, pred_df):\n",
        "  precision = precision_at_k(test, pred_df)\n",
        "  recall = recall_at_k(test, pred_df)\n",
        "\n",
        "  return 2 * ((precision * recall) / (precision + recall))"
      ],
      "execution_count": 18,
      "outputs": []
    },
    {
      "cell_type": "code",
      "metadata": {
        "id": "GYVjxuJAohRr"
      },
      "source": [
        "#precision_at_k(test, pred_df)"
      ],
      "execution_count": 19,
      "outputs": []
    },
    {
      "cell_type": "code",
      "metadata": {
        "id": "cUjI2SntojIz"
      },
      "source": [
        "#recall_at_k(test, pred_df)"
      ],
      "execution_count": 20,
      "outputs": []
    },
    {
      "cell_type": "code",
      "metadata": {
        "colab": {
          "base_uri": "https://localhost:8080/"
        },
        "id": "qmRULMp1osJQ",
        "outputId": "8739067c-c3fa-4f76-9c1a-aeb754f335ea"
      },
      "source": [
        "F1_Score(test, pred_df)"
      ],
      "execution_count": 21,
      "outputs": [
        {
          "output_type": "execute_result",
          "data": {
            "text/plain": [
              "0.04186845558636277"
            ]
          },
          "metadata": {
            "tags": []
          },
          "execution_count": 21
        }
      ]
    },
    {
      "cell_type": "markdown",
      "metadata": {
        "id": "eSbyHNcsqNsk"
      },
      "source": [
        "# Auto Tuning\n",
        "\n",
        "Tunable hyperparameters: 'n_factors', 'layers', 'max_learning_rate', 'n_epoch', 'weight_decay'."
      ]
    },
    {
      "cell_type": "code",
      "metadata": {
        "id": "QHUKPZDcvlfl"
      },
      "source": [
        "def generate_layers():\n",
        "  n_layers = np.random.randint(2, 5)\n",
        "  top_layer = np.random.choice(np.arange(100, 260, 20))\n",
        "  layers = [top_layer]\n",
        "  for i in np.arange(n_layers):\n",
        "    if top_layer >= 60:\n",
        "      top_layer = int(top_layer / 2)\n",
        "      layers.append(top_layer)\n",
        "  return layers\n",
        "\n",
        "def generate_factors():\n",
        "  return np.random.randint(35, 65)\n",
        "\n",
        "def generate_epoch():\n",
        "  return np.random.randint(4, 8)\n",
        "\n",
        "def generate_max_lr():\n",
        "  m = np.log(max(Y_RANGE)/1000)\n",
        "  return np.random.choice(np.logspace(m,-1,num=50)).item()\n",
        "\n",
        "def generate_wd():\n",
        "  return np.random.uniform(0.01, 1)\n",
        "\n",
        "def generate_random_comb(n_comb):\n",
        "  n = max(2, n_comb**(1/5))\n",
        "  parameters = [\n",
        "  {\"id\": \"n_factors\", \"values\": [generate_factors() for i in np.arange(n)]},\n",
        "  {\"id\": \"layers\", \"values\": [generate_layers() for i in np.arange(n)]},\n",
        "  {\"id\": \"n_epoch\", \"values\": [generate_epoch() for i in np.arange(n)]},\n",
        "  {\"id\": \"max_learning_rate\", \"values\": [generate_max_lr() for i in np.arange(n)]},\n",
        "  {\"id\": \"weight_decay\", \"values\": [generate_wd() for i in np.arange(n)]}\n",
        "  ] \n",
        "  param_id = [parameter['id'] for parameter in parameters]\n",
        "  param_values = [parameter['values'] for parameter in parameters]\n",
        "  value_pairs = list(itertools.product(*param_values))\n",
        "  combinations =  [dict(zip(param_id, value)) for value in value_pairs]\n",
        "  return np.random.choice(combinations, size=n_comb, replace=False)"
      ],
      "execution_count": 22,
      "outputs": []
    },
    {
      "cell_type": "markdown",
      "metadata": {
        "id": "Oz5W_bI3DfFX"
      },
      "source": [
        "@source [microsoft recommenders / fasti_utils](https://github.com/microsoft/recommenders/blob/main/reco_utils/recommender/fastai/fastai_utils.py)"
      ]
    },
    {
      "cell_type": "code",
      "metadata": {
        "id": "tIRfgRVEDS70"
      },
      "source": [
        "# This function is not working properly; progress bars are not suppressed\n",
        "import fastai\n",
        "import fastprogress\n",
        "from fastprogress.fastprogress import force_console_behavior\n",
        "from fastprogress.fastprogress import progress_bar,master_bar\n",
        "\n",
        "def hide_fastai_progress_bar():\n",
        "    \"\"\"Hide fastai progress bar\"\"\"\n",
        "    fastprogress.fastprogress.NO_BAR = True\n",
        "    fastprogress.fastprogress.WRITER_FN = str\n",
        "    master_bar, progress_bar = force_console_behavior()\n",
        "    master_bar, progress_bar = (\n",
        "        master_bar,\n",
        "        progress_bar,\n",
        "    )"
      ],
      "execution_count": 23,
      "outputs": []
    },
    {
      "cell_type": "code",
      "metadata": {
        "id": "QmTLgw1zqevk"
      },
      "source": [
        "def random_search(train, test, n_comb, evaluate=F1_Score):\n",
        "  '''Args:\n",
        "      train: Train set from train-test split\n",
        "      test: Test set from train-test split\n",
        "      n_comb: Number of combinations of hyperparameters\n",
        "      evaluate: Evaluation function, default to F1_Score\n",
        "    Returns:\n",
        "      The model that performs the best, its hyperparameters, and its evalation score based on the evaluation function\n",
        "  '''\n",
        "\n",
        "  dls = CollabDataLoaders.from_df(train, user_name=USER, item_name=ITEM, rating_name=RATING, seed=42, bs=64)\n",
        "  combinations = generate_random_comb(n_comb)\n",
        "\n",
        "  hide_fastai_progress_bar()\n",
        "  \n",
        "  models = []\n",
        "  scores = []\n",
        "  for i in np.arange(len(combinations)):\n",
        "    combo = combinations[i] \n",
        "    learner = get_model(dls, \n",
        "                  n_factors=combo['n_factors'], \n",
        "                  layers=combo['layers'], \n",
        "                  max_learning_rate=combo['max_learning_rate'], \n",
        "                  n_epoch=combo['n_epoch'], \n",
        "                  weight_decay=combo['weight_decay'])\n",
        "    models.append(learner)\n",
        "    \n",
        "    test_df = get_test_df(learner, test)\n",
        "    pred_df = score(learner, test_df)\n",
        "    f1_score = F1_Score(test, pred_df)\n",
        "    scores.append(f1_score)\n",
        "\n",
        "  best_param_idx = np.array(scores).argmax()\n",
        "  \n",
        "  return models[best_param_idx], combinations[best_param_idx], scores[best_param_idx]\n"
      ],
      "execution_count": 24,
      "outputs": []
    },
    {
      "cell_type": "code",
      "metadata": {
        "colab": {
          "base_uri": "https://localhost:8080/",
          "height": 1000
        },
        "id": "EibK89yaMeSG",
        "outputId": "98f223b8-dd2d-408d-f223-ede77ebf7f0c"
      },
      "source": [
        "learn, params, f1_score = random_search(train, test, 10)"
      ],
      "execution_count": 25,
      "outputs": [
        {
          "output_type": "display_data",
          "data": {
            "text/html": [
              "<table border=\"1\" class=\"dataframe\">\n",
              "  <thead>\n",
              "    <tr style=\"text-align: left;\">\n",
              "      <th>epoch</th>\n",
              "      <th>train_loss</th>\n",
              "      <th>valid_loss</th>\n",
              "      <th>time</th>\n",
              "    </tr>\n",
              "  </thead>\n",
              "  <tbody>\n",
              "    <tr>\n",
              "      <td>0</td>\n",
              "      <td>1.070942</td>\n",
              "      <td>1.042757</td>\n",
              "      <td>00:08</td>\n",
              "    </tr>\n",
              "    <tr>\n",
              "      <td>1</td>\n",
              "      <td>1.005176</td>\n",
              "      <td>1.046250</td>\n",
              "      <td>00:07</td>\n",
              "    </tr>\n",
              "    <tr>\n",
              "      <td>2</td>\n",
              "      <td>0.964906</td>\n",
              "      <td>0.936328</td>\n",
              "      <td>00:07</td>\n",
              "    </tr>\n",
              "    <tr>\n",
              "      <td>3</td>\n",
              "      <td>0.857576</td>\n",
              "      <td>0.889376</td>\n",
              "      <td>00:08</td>\n",
              "    </tr>\n",
              "  </tbody>\n",
              "</table>"
            ],
            "text/plain": [
              "<IPython.core.display.HTML object>"
            ]
          },
          "metadata": {
            "tags": []
          }
        },
        {
          "output_type": "display_data",
          "data": {
            "text/html": [
              ""
            ],
            "text/plain": [
              "<IPython.core.display.HTML object>"
            ]
          },
          "metadata": {
            "tags": []
          }
        },
        {
          "output_type": "display_data",
          "data": {
            "text/html": [
              "<table border=\"1\" class=\"dataframe\">\n",
              "  <thead>\n",
              "    <tr style=\"text-align: left;\">\n",
              "      <th>epoch</th>\n",
              "      <th>train_loss</th>\n",
              "      <th>valid_loss</th>\n",
              "      <th>time</th>\n",
              "    </tr>\n",
              "  </thead>\n",
              "  <tbody>\n",
              "    <tr>\n",
              "      <td>0</td>\n",
              "      <td>1.039809</td>\n",
              "      <td>1.045739</td>\n",
              "      <td>00:08</td>\n",
              "    </tr>\n",
              "    <tr>\n",
              "      <td>1</td>\n",
              "      <td>0.996393</td>\n",
              "      <td>1.013684</td>\n",
              "      <td>00:08</td>\n",
              "    </tr>\n",
              "    <tr>\n",
              "      <td>2</td>\n",
              "      <td>0.913293</td>\n",
              "      <td>0.935595</td>\n",
              "      <td>00:08</td>\n",
              "    </tr>\n",
              "    <tr>\n",
              "      <td>3</td>\n",
              "      <td>0.870046</td>\n",
              "      <td>0.894166</td>\n",
              "      <td>00:07</td>\n",
              "    </tr>\n",
              "  </tbody>\n",
              "</table>"
            ],
            "text/plain": [
              "<IPython.core.display.HTML object>"
            ]
          },
          "metadata": {
            "tags": []
          }
        },
        {
          "output_type": "display_data",
          "data": {
            "text/html": [
              ""
            ],
            "text/plain": [
              "<IPython.core.display.HTML object>"
            ]
          },
          "metadata": {
            "tags": []
          }
        },
        {
          "output_type": "display_data",
          "data": {
            "text/html": [
              "<table border=\"1\" class=\"dataframe\">\n",
              "  <thead>\n",
              "    <tr style=\"text-align: left;\">\n",
              "      <th>epoch</th>\n",
              "      <th>train_loss</th>\n",
              "      <th>valid_loss</th>\n",
              "      <th>time</th>\n",
              "    </tr>\n",
              "  </thead>\n",
              "  <tbody>\n",
              "    <tr>\n",
              "      <td>0</td>\n",
              "      <td>1.025604</td>\n",
              "      <td>1.009889</td>\n",
              "      <td>00:08</td>\n",
              "    </tr>\n",
              "    <tr>\n",
              "      <td>1</td>\n",
              "      <td>0.971079</td>\n",
              "      <td>0.946757</td>\n",
              "      <td>00:08</td>\n",
              "    </tr>\n",
              "    <tr>\n",
              "      <td>2</td>\n",
              "      <td>0.874647</td>\n",
              "      <td>0.897981</td>\n",
              "      <td>00:08</td>\n",
              "    </tr>\n",
              "    <tr>\n",
              "      <td>3</td>\n",
              "      <td>0.797930</td>\n",
              "      <td>0.884507</td>\n",
              "      <td>00:08</td>\n",
              "    </tr>\n",
              "  </tbody>\n",
              "</table>"
            ],
            "text/plain": [
              "<IPython.core.display.HTML object>"
            ]
          },
          "metadata": {
            "tags": []
          }
        },
        {
          "output_type": "display_data",
          "data": {
            "text/html": [
              ""
            ],
            "text/plain": [
              "<IPython.core.display.HTML object>"
            ]
          },
          "metadata": {
            "tags": []
          }
        },
        {
          "output_type": "display_data",
          "data": {
            "text/html": [
              "<table border=\"1\" class=\"dataframe\">\n",
              "  <thead>\n",
              "    <tr style=\"text-align: left;\">\n",
              "      <th>epoch</th>\n",
              "      <th>train_loss</th>\n",
              "      <th>valid_loss</th>\n",
              "      <th>time</th>\n",
              "    </tr>\n",
              "  </thead>\n",
              "  <tbody>\n",
              "    <tr>\n",
              "      <td>0</td>\n",
              "      <td>1.252633</td>\n",
              "      <td>1.189978</td>\n",
              "      <td>00:08</td>\n",
              "    </tr>\n",
              "    <tr>\n",
              "      <td>1</td>\n",
              "      <td>0.928001</td>\n",
              "      <td>0.966802</td>\n",
              "      <td>00:08</td>\n",
              "    </tr>\n",
              "    <tr>\n",
              "      <td>2</td>\n",
              "      <td>0.771807</td>\n",
              "      <td>0.955246</td>\n",
              "      <td>00:08</td>\n",
              "    </tr>\n",
              "    <tr>\n",
              "      <td>3</td>\n",
              "      <td>0.581241</td>\n",
              "      <td>0.971724</td>\n",
              "      <td>00:08</td>\n",
              "    </tr>\n",
              "  </tbody>\n",
              "</table>"
            ],
            "text/plain": [
              "<IPython.core.display.HTML object>"
            ]
          },
          "metadata": {
            "tags": []
          }
        },
        {
          "output_type": "display_data",
          "data": {
            "text/html": [
              ""
            ],
            "text/plain": [
              "<IPython.core.display.HTML object>"
            ]
          },
          "metadata": {
            "tags": []
          }
        },
        {
          "output_type": "display_data",
          "data": {
            "text/html": [
              "<table border=\"1\" class=\"dataframe\">\n",
              "  <thead>\n",
              "    <tr style=\"text-align: left;\">\n",
              "      <th>epoch</th>\n",
              "      <th>train_loss</th>\n",
              "      <th>valid_loss</th>\n",
              "      <th>time</th>\n",
              "    </tr>\n",
              "  </thead>\n",
              "  <tbody>\n",
              "    <tr>\n",
              "      <td>0</td>\n",
              "      <td>1.038777</td>\n",
              "      <td>0.984982</td>\n",
              "      <td>00:07</td>\n",
              "    </tr>\n",
              "    <tr>\n",
              "      <td>1</td>\n",
              "      <td>0.969052</td>\n",
              "      <td>0.952445</td>\n",
              "      <td>00:08</td>\n",
              "    </tr>\n",
              "    <tr>\n",
              "      <td>2</td>\n",
              "      <td>0.892304</td>\n",
              "      <td>0.891971</td>\n",
              "      <td>00:08</td>\n",
              "    </tr>\n",
              "    <tr>\n",
              "      <td>3</td>\n",
              "      <td>0.826514</td>\n",
              "      <td>0.882448</td>\n",
              "      <td>00:07</td>\n",
              "    </tr>\n",
              "  </tbody>\n",
              "</table>"
            ],
            "text/plain": [
              "<IPython.core.display.HTML object>"
            ]
          },
          "metadata": {
            "tags": []
          }
        },
        {
          "output_type": "display_data",
          "data": {
            "text/html": [
              ""
            ],
            "text/plain": [
              "<IPython.core.display.HTML object>"
            ]
          },
          "metadata": {
            "tags": []
          }
        },
        {
          "output_type": "display_data",
          "data": {
            "text/html": [
              "<table border=\"1\" class=\"dataframe\">\n",
              "  <thead>\n",
              "    <tr style=\"text-align: left;\">\n",
              "      <th>epoch</th>\n",
              "      <th>train_loss</th>\n",
              "      <th>valid_loss</th>\n",
              "      <th>time</th>\n",
              "    </tr>\n",
              "  </thead>\n",
              "  <tbody>\n",
              "    <tr>\n",
              "      <td>0</td>\n",
              "      <td>1.195030</td>\n",
              "      <td>1.142655</td>\n",
              "      <td>00:08</td>\n",
              "    </tr>\n",
              "    <tr>\n",
              "      <td>1</td>\n",
              "      <td>0.959111</td>\n",
              "      <td>0.963414</td>\n",
              "      <td>00:07</td>\n",
              "    </tr>\n",
              "    <tr>\n",
              "      <td>2</td>\n",
              "      <td>0.755897</td>\n",
              "      <td>0.958670</td>\n",
              "      <td>00:07</td>\n",
              "    </tr>\n",
              "    <tr>\n",
              "      <td>3</td>\n",
              "      <td>0.554520</td>\n",
              "      <td>0.972416</td>\n",
              "      <td>00:08</td>\n",
              "    </tr>\n",
              "  </tbody>\n",
              "</table>"
            ],
            "text/plain": [
              "<IPython.core.display.HTML object>"
            ]
          },
          "metadata": {
            "tags": []
          }
        },
        {
          "output_type": "display_data",
          "data": {
            "text/html": [
              ""
            ],
            "text/plain": [
              "<IPython.core.display.HTML object>"
            ]
          },
          "metadata": {
            "tags": []
          }
        },
        {
          "output_type": "display_data",
          "data": {
            "text/html": [
              "<table border=\"1\" class=\"dataframe\">\n",
              "  <thead>\n",
              "    <tr style=\"text-align: left;\">\n",
              "      <th>epoch</th>\n",
              "      <th>train_loss</th>\n",
              "      <th>valid_loss</th>\n",
              "      <th>time</th>\n",
              "    </tr>\n",
              "  </thead>\n",
              "  <tbody>\n",
              "    <tr>\n",
              "      <td>0</td>\n",
              "      <td>1.227055</td>\n",
              "      <td>1.178494</td>\n",
              "      <td>00:07</td>\n",
              "    </tr>\n",
              "    <tr>\n",
              "      <td>1</td>\n",
              "      <td>0.893448</td>\n",
              "      <td>0.964283</td>\n",
              "      <td>00:07</td>\n",
              "    </tr>\n",
              "    <tr>\n",
              "      <td>2</td>\n",
              "      <td>0.763295</td>\n",
              "      <td>0.952042</td>\n",
              "      <td>00:07</td>\n",
              "    </tr>\n",
              "    <tr>\n",
              "      <td>3</td>\n",
              "      <td>0.528098</td>\n",
              "      <td>0.962554</td>\n",
              "      <td>00:07</td>\n",
              "    </tr>\n",
              "  </tbody>\n",
              "</table>"
            ],
            "text/plain": [
              "<IPython.core.display.HTML object>"
            ]
          },
          "metadata": {
            "tags": []
          }
        },
        {
          "output_type": "display_data",
          "data": {
            "text/html": [
              ""
            ],
            "text/plain": [
              "<IPython.core.display.HTML object>"
            ]
          },
          "metadata": {
            "tags": []
          }
        },
        {
          "output_type": "display_data",
          "data": {
            "text/html": [
              "<table border=\"1\" class=\"dataframe\">\n",
              "  <thead>\n",
              "    <tr style=\"text-align: left;\">\n",
              "      <th>epoch</th>\n",
              "      <th>train_loss</th>\n",
              "      <th>valid_loss</th>\n",
              "      <th>time</th>\n",
              "    </tr>\n",
              "  </thead>\n",
              "  <tbody>\n",
              "    <tr>\n",
              "      <td>0</td>\n",
              "      <td>1.074532</td>\n",
              "      <td>1.053127</td>\n",
              "      <td>00:08</td>\n",
              "    </tr>\n",
              "    <tr>\n",
              "      <td>1</td>\n",
              "      <td>1.016605</td>\n",
              "      <td>0.999673</td>\n",
              "      <td>00:08</td>\n",
              "    </tr>\n",
              "    <tr>\n",
              "      <td>2</td>\n",
              "      <td>0.947769</td>\n",
              "      <td>0.947103</td>\n",
              "      <td>00:08</td>\n",
              "    </tr>\n",
              "    <tr>\n",
              "      <td>3</td>\n",
              "      <td>0.904851</td>\n",
              "      <td>0.888657</td>\n",
              "      <td>00:08</td>\n",
              "    </tr>\n",
              "  </tbody>\n",
              "</table>"
            ],
            "text/plain": [
              "<IPython.core.display.HTML object>"
            ]
          },
          "metadata": {
            "tags": []
          }
        },
        {
          "output_type": "display_data",
          "data": {
            "text/html": [
              ""
            ],
            "text/plain": [
              "<IPython.core.display.HTML object>"
            ]
          },
          "metadata": {
            "tags": []
          }
        },
        {
          "output_type": "display_data",
          "data": {
            "text/html": [
              "<table border=\"1\" class=\"dataframe\">\n",
              "  <thead>\n",
              "    <tr style=\"text-align: left;\">\n",
              "      <th>epoch</th>\n",
              "      <th>train_loss</th>\n",
              "      <th>valid_loss</th>\n",
              "      <th>time</th>\n",
              "    </tr>\n",
              "  </thead>\n",
              "  <tbody>\n",
              "    <tr>\n",
              "      <td>0</td>\n",
              "      <td>1.292522</td>\n",
              "      <td>1.220792</td>\n",
              "      <td>00:08</td>\n",
              "    </tr>\n",
              "    <tr>\n",
              "      <td>1</td>\n",
              "      <td>0.918336</td>\n",
              "      <td>0.962576</td>\n",
              "      <td>00:08</td>\n",
              "    </tr>\n",
              "    <tr>\n",
              "      <td>2</td>\n",
              "      <td>0.743158</td>\n",
              "      <td>0.956520</td>\n",
              "      <td>00:08</td>\n",
              "    </tr>\n",
              "    <tr>\n",
              "      <td>3</td>\n",
              "      <td>0.586185</td>\n",
              "      <td>0.967260</td>\n",
              "      <td>00:08</td>\n",
              "    </tr>\n",
              "  </tbody>\n",
              "</table>"
            ],
            "text/plain": [
              "<IPython.core.display.HTML object>"
            ]
          },
          "metadata": {
            "tags": []
          }
        },
        {
          "output_type": "display_data",
          "data": {
            "text/html": [
              ""
            ],
            "text/plain": [
              "<IPython.core.display.HTML object>"
            ]
          },
          "metadata": {
            "tags": []
          }
        },
        {
          "output_type": "display_data",
          "data": {
            "text/html": [
              "<table border=\"1\" class=\"dataframe\">\n",
              "  <thead>\n",
              "    <tr style=\"text-align: left;\">\n",
              "      <th>epoch</th>\n",
              "      <th>train_loss</th>\n",
              "      <th>valid_loss</th>\n",
              "      <th>time</th>\n",
              "    </tr>\n",
              "  </thead>\n",
              "  <tbody>\n",
              "    <tr>\n",
              "      <td>0</td>\n",
              "      <td>1.185246</td>\n",
              "      <td>1.116771</td>\n",
              "      <td>00:07</td>\n",
              "    </tr>\n",
              "    <tr>\n",
              "      <td>1</td>\n",
              "      <td>0.933953</td>\n",
              "      <td>0.979543</td>\n",
              "      <td>00:07</td>\n",
              "    </tr>\n",
              "    <tr>\n",
              "      <td>2</td>\n",
              "      <td>0.707064</td>\n",
              "      <td>0.960683</td>\n",
              "      <td>00:07</td>\n",
              "    </tr>\n",
              "    <tr>\n",
              "      <td>3</td>\n",
              "      <td>0.504170</td>\n",
              "      <td>0.976959</td>\n",
              "      <td>00:08</td>\n",
              "    </tr>\n",
              "  </tbody>\n",
              "</table>"
            ],
            "text/plain": [
              "<IPython.core.display.HTML object>"
            ]
          },
          "metadata": {
            "tags": []
          }
        },
        {
          "output_type": "display_data",
          "data": {
            "text/html": [
              ""
            ],
            "text/plain": [
              "<IPython.core.display.HTML object>"
            ]
          },
          "metadata": {
            "tags": []
          }
        }
      ]
    },
    {
      "cell_type": "code",
      "metadata": {
        "colab": {
          "base_uri": "https://localhost:8080/"
        },
        "id": "M7R98yqTNJqG",
        "outputId": "9d99e56a-491b-4621-f84a-cd5a5b8d78de"
      },
      "source": [
        "params"
      ],
      "execution_count": 26,
      "outputs": [
        {
          "output_type": "execute_result",
          "data": {
            "text/plain": [
              "{'layers': [240, 120, 60, 30],\n",
              " 'max_learning_rate': 0.011388532733495037,\n",
              " 'n_epoch': 4,\n",
              " 'n_factors': 41,\n",
              " 'weight_decay': 0.4646564030462085}"
            ]
          },
          "metadata": {
            "tags": []
          },
          "execution_count": 26
        }
      ]
    },
    {
      "cell_type": "code",
      "metadata": {
        "colab": {
          "base_uri": "https://localhost:8080/"
        },
        "id": "o-SMlSj5RhM_",
        "outputId": "225899d9-3ede-40af-bc52-059fdec7ef68"
      },
      "source": [
        "f1_score"
      ],
      "execution_count": 27,
      "outputs": [
        {
          "output_type": "execute_result",
          "data": {
            "text/plain": [
              "0.05399485115338404"
            ]
          },
          "metadata": {
            "tags": []
          },
          "execution_count": 27
        }
      ]
    },
    {
      "cell_type": "markdown",
      "metadata": {
        "id": "U6rlYxFzVT2Y"
      },
      "source": [
        "Using EmbeddingDotBias and the paramters from the microsoft example. Got higher f_score."
      ]
    },
    {
      "cell_type": "code",
      "metadata": {
        "colab": {
          "base_uri": "https://localhost:8080/",
          "height": 221
        },
        "id": "A0vJqnwyRiMo",
        "outputId": "2c36d8ad-6a1c-4345-fdf6-eef714ebccc4"
      },
      "source": [
        "non_nn = collab_learner(dls, n_factors=40, y_range=[0,5.5], wd=1e-1)\n",
        "non_nn.fit_one_cycle(5, 5e-3)\n",
        "test_df = get_test_df(non_nn, test)\n",
        "pred_df = score(non_nn, test_df)\n",
        "F1_Score(test, pred_df)"
      ],
      "execution_count": 28,
      "outputs": [
        {
          "output_type": "display_data",
          "data": {
            "text/html": [
              "<table border=\"1\" class=\"dataframe\">\n",
              "  <thead>\n",
              "    <tr style=\"text-align: left;\">\n",
              "      <th>epoch</th>\n",
              "      <th>train_loss</th>\n",
              "      <th>valid_loss</th>\n",
              "      <th>time</th>\n",
              "    </tr>\n",
              "  </thead>\n",
              "  <tbody>\n",
              "    <tr>\n",
              "      <td>0</td>\n",
              "      <td>0.987687</td>\n",
              "      <td>0.972858</td>\n",
              "      <td>00:05</td>\n",
              "    </tr>\n",
              "    <tr>\n",
              "      <td>1</td>\n",
              "      <td>0.867035</td>\n",
              "      <td>0.881681</td>\n",
              "      <td>00:05</td>\n",
              "    </tr>\n",
              "    <tr>\n",
              "      <td>2</td>\n",
              "      <td>0.723627</td>\n",
              "      <td>0.852629</td>\n",
              "      <td>00:05</td>\n",
              "    </tr>\n",
              "    <tr>\n",
              "      <td>3</td>\n",
              "      <td>0.602197</td>\n",
              "      <td>0.843186</td>\n",
              "      <td>00:05</td>\n",
              "    </tr>\n",
              "    <tr>\n",
              "      <td>4</td>\n",
              "      <td>0.503336</td>\n",
              "      <td>0.844614</td>\n",
              "      <td>00:05</td>\n",
              "    </tr>\n",
              "  </tbody>\n",
              "</table>"
            ],
            "text/plain": [
              "<IPython.core.display.HTML object>"
            ]
          },
          "metadata": {
            "tags": []
          }
        },
        {
          "output_type": "display_data",
          "data": {
            "text/html": [
              ""
            ],
            "text/plain": [
              "<IPython.core.display.HTML object>"
            ]
          },
          "metadata": {
            "tags": []
          }
        },
        {
          "output_type": "execute_result",
          "data": {
            "text/plain": [
              "0.07633238366502201"
            ]
          },
          "metadata": {
            "tags": []
          },
          "execution_count": 28
        }
      ]
    },
    {
      "cell_type": "markdown",
      "metadata": {
        "id": "ZWpt7MLfWV-b"
      },
      "source": [
        "Things to explore next: \n",
        "- Does class EmbeddingDotBias consistently outperform class EmbeddingNN (use_nn=True)?\n",
        "- Write GridSearch method for class EmbeddingNN\n",
        "- Write GridSearch and/or RandomSearch methods for class EmbeddingDotBias too and compare with the best EmbeddingNN model; take the better of the two\n",
        "- Content-based and hybrid model when given datasets that contain different kinds of information\n",
        "- We manipulate data using pandas, which may not be appropriate for larger datasets"
      ]
    }
  ]
}